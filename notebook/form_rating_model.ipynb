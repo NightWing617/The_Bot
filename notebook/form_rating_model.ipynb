
# form_rating_model.ipynb

# This notebook is for experimenting with form ratings and training baseline models

# Example notebook content
import pandas as pd
from sklearn.ensemble import RandomForestClassifier
from sklearn.model_selection import train_test_split
from sklearn.metrics import classification_report

# Dummy data
data = pd.DataFrame({
    'form_rating': [88, 72, 95, 60],
    'odds': [3.5, 6.0, 2.2, 10.0],
    'win': [1, 0, 1, 0]
})

X = data[['form_rating', 'odds']]
y = data['win']

X_train, X_test, y_train, y_test = train_test_split(X, y, test_size=0.25, random_state=42)

model = RandomForestClassifier(n_estimators=100)
model.fit(X_train, y_train)

preds = model.predict(X_test)
print(classification_report(y_test, preds))
